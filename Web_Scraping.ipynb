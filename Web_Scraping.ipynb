{
  "nbformat": 4,
  "nbformat_minor": 0,
  "metadata": {
    "colab": {
      "provenance": [],
      "authorship_tag": "ABX9TyNvSxDu3xlLvr2Fbd+1x0hs",
      "include_colab_link": true
    },
    "kernelspec": {
      "name": "python3",
      "display_name": "Python 3"
    },
    "language_info": {
      "name": "python"
    }
  },
  "cells": [
    {
      "cell_type": "markdown",
      "metadata": {
        "id": "view-in-github",
        "colab_type": "text"
      },
      "source": [
        "<a href=\"https://colab.research.google.com/github/flyhigh-tej/Web-Scraper/blob/main/Web_Scraping.ipynb\" target=\"_parent\"><img src=\"https://colab.research.google.com/assets/colab-badge.svg\" alt=\"Open In Colab\"/></a>"
      ]
    },
    {
      "cell_type": "code",
      "execution_count": null,
      "metadata": {
        "id": "Jhq0-2yON1xf"
      },
      "outputs": [],
      "source": [
        "import requests # for making standard html requests\n",
        "from bs4 import BeautifulSoup # for parsing html data\n",
        "import pandas as pd #store data into proper dataframe and then into csv\n",
        "from google.colab import drive\n",
        "import csv"
      ]
    },
    {
      "cell_type": "code",
      "source": [
        "#Mount G-Drive in Collab\n",
        "drive.mount('/content/drive')\n",
        "#Create a folder in the root directory\n",
        "!mkdir -p \"/content/drive/My Drive/My Folder\""
      ],
      "metadata": {
        "colab": {
          "base_uri": "https://localhost:8080/"
        },
        "id": "O4ca392w8scH",
        "outputId": "b3637630-29b5-492d-f0ef-50de8aa0ed5c"
      },
      "execution_count": null,
      "outputs": [
        {
          "output_type": "stream",
          "name": "stdout",
          "text": [
            "Drive already mounted at /content/drive; to attempt to forcibly remount, call drive.mount(\"/content/drive\", force_remount=True).\n"
          ]
        }
      ]
    },
    {
      "cell_type": "code",
      "source": [
        "#opening output file in append mode\n",
        "File = open(\"/content/drive/My Drive/My Folder/out.csv\", \"a\")"
      ],
      "metadata": {
        "id": "AY5Grz_E5jss"
      },
      "execution_count": null,
      "outputs": []
    },
    {
      "cell_type": "code",
      "source": [
        "#Adding headers\n",
        "headerList = ['Product Name', 'Price', 'Reviews', 'Availability']\n",
        "dw = csv.DictWriter(File, delimiter=',', fieldnames = headerList)\n",
        "dw.writeheader()"
      ],
      "metadata": {
        "colab": {
          "base_uri": "https://localhost:8080/"
        },
        "id": "RyvoKZ2WADqS",
        "outputId": "c7f12fad-5562-468c-9474-16718b858a70"
      },
      "execution_count": null,
      "outputs": [
        {
          "output_type": "execute_result",
          "data": {
            "text/plain": [
              "41"
            ]
          },
          "metadata": {},
          "execution_count": 67
        }
      ]
    },
    {
      "cell_type": "code",
      "source": [
        "url = \"https://www.amazon.in/s?k=5g+mobile\""
      ],
      "metadata": {
        "id": "OCCD9sfX72QO"
      },
      "execution_count": null,
      "outputs": []
    },
    {
      "cell_type": "code",
      "source": [
        "# Headers for Request\n",
        "HEADERS = ({'User-Agent':'Mozilla/5.0 (Windows NT 10.0; Win64; x64) AppleWebKit/537.36 (KHTML, like Gecko) Chrome/121.0.0.0 Safari/537.36', 'Accept-Language':'en-US, en;q=0.5'})"
      ],
      "metadata": {
        "id": "ItElgSjZ4aed"
      },
      "execution_count": null,
      "outputs": []
    },
    {
      "cell_type": "code",
      "source": [
        "# HTTP Request\n",
        "webpage = requests.get(url, headers=HEADERS)\n",
        "type(webpage.content)"
      ],
      "metadata": {
        "colab": {
          "base_uri": "https://localhost:8080/"
        },
        "id": "pDQr9TLH48bc",
        "outputId": "019eb2ca-0d38-45b8-d1d4-fb1107303d87"
      },
      "execution_count": null,
      "outputs": [
        {
          "output_type": "execute_result",
          "data": {
            "text/plain": [
              "bytes"
            ]
          },
          "metadata": {},
          "execution_count": 70
        }
      ]
    },
    {
      "cell_type": "code",
      "source": [
        "# Soup Object containing all data\n",
        "soup = BeautifulSoup(webpage.content, \"html.parser\")"
      ],
      "metadata": {
        "id": "BuK5ncoQ5uox"
      },
      "execution_count": null,
      "outputs": []
    },
    {
      "cell_type": "code",
      "source": [
        "#Fetch Name as a list of Tag Objects\n",
        "try:\n",
        "  name = soup.find_all(\"span\", attrs={\"class\": 'a-size-medium a-color-base a-text-normal'})\n",
        "  #for names in name :\n",
        "  name_value = name[0].string\n",
        "  name_string = name_value.strip().replace(',', ' ')\n",
        "  File.write(f\"{name_string}\")\n",
        "\n",
        "except AttributeError:\n",
        "  title_string = \"NA\"\n",
        "  print(\"Product Name = \", name_string)\n",
        "\n",
        "File.close()"
      ],
      "metadata": {
        "id": "fDbEew356QuC"
      },
      "execution_count": null,
      "outputs": []
    }
  ]
}